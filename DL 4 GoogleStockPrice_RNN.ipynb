{
 "cells": [
  {
   "cell_type": "code",
   "execution_count": 1,
   "id": "237cde57",
   "metadata": {},
   "outputs": [],
   "source": [
    "import numpy as np\n",
    "import pandas as pd\n",
    "import matplotlib.pyplot as plt\n",
    "from sklearn.preprocessing import MinMaxScaler\n",
    "from keras.models import Sequential\n",
    "from keras.layers import Dense, LSTM"
   ]
  },
  {
   "cell_type": "code",
   "execution_count": 2,
   "id": "1728e183",
   "metadata": {},
   "outputs": [],
   "source": [
    "# Load the dataset\n",
    "dataset = pd.read_csv('GOOGL.csv', index_col='Date', parse_dates=['Date'])"
   ]
  },
  {
   "cell_type": "code",
   "execution_count": 3,
   "id": "97173a81",
   "metadata": {},
   "outputs": [],
   "source": [
    "# Split the dataset into training and testing sets\n",
    "train_set = dataset[:'2018'].iloc[:, 1:2].values\n",
    "test_set = dataset['2019':].iloc[:, 1:2].values\n"
   ]
  },
  {
   "cell_type": "code",
   "execution_count": 4,
   "id": "4db3df09",
   "metadata": {},
   "outputs": [],
   "source": [
    "# Normalize the dataset\n",
    "sc = MinMaxScaler(feature_range=(0, 1))\n",
    "train_set_scaled = sc.fit_transform(train_set)\n"
   ]
  },
  {
   "cell_type": "code",
   "execution_count": 5,
   "id": "5f7678a1",
   "metadata": {},
   "outputs": [],
   "source": [
    "# Create a function to generate a sliding window of data\n",
    "def create_dataset(dataset, look_back=60):\n",
    "    X, Y = [], []\n",
    "    for i in range(look_back, len(dataset)):\n",
    "        X.append(dataset[i-look_back:i, 0])\n",
    "        Y.append(dataset[i, 0])\n",
    "    X, Y = np.array(X), np.array(Y)\n",
    "    X = np.reshape(X, (X.shape[0], X.shape[1], 1))\n",
    "    return X, Y\n"
   ]
  },
  {
   "cell_type": "code",
   "execution_count": 6,
   "id": "03afd848",
   "metadata": {},
   "outputs": [],
   "source": [
    "# Generate the training and testing datasets\n",
    "look_back = 60\n",
    "X_train, Y_train = create_dataset(train_set_scaled, look_back)\n",
    "X_test, Y_test = create_dataset(test_set, look_back)\n"
   ]
  },
  {
   "cell_type": "code",
   "execution_count": 7,
   "id": "809e272b",
   "metadata": {},
   "outputs": [],
   "source": [
    "# Build the RNN model\n",
    "model = Sequential()\n",
    "model.add(LSTM(units=50, return_sequences=True, input_shape=(X_train.shape[1], 1)))\n",
    "model.add(LSTM(units=50))\n",
    "model.add(Dense(units=1))\n",
    "model.compile(optimizer='adam', loss='mean_squared_error')\n"
   ]
  },
  {
   "cell_type": "code",
   "execution_count": 8,
   "id": "ce48c6c0",
   "metadata": {},
   "outputs": [
    {
     "name": "stdout",
     "output_type": "stream",
     "text": [
      "Epoch 1/100\n",
      "112/112 [==============================] - 8s 38ms/step - loss: 0.0072\n",
      "Epoch 2/100\n",
      "112/112 [==============================] - 4s 38ms/step - loss: 2.6128e-04\n",
      "Epoch 3/100\n",
      "112/112 [==============================] - 4s 40ms/step - loss: 2.5155e-04\n",
      "Epoch 4/100\n",
      "112/112 [==============================] - 4s 40ms/step - loss: 2.6295e-04\n",
      "Epoch 5/100\n",
      "112/112 [==============================] - 4s 39ms/step - loss: 2.3720e-04\n",
      "Epoch 6/100\n",
      "112/112 [==============================] - 5s 41ms/step - loss: 2.5883e-04\n",
      "Epoch 7/100\n",
      "112/112 [==============================] - 6s 50ms/step - loss: 2.2291e-04\n",
      "Epoch 8/100\n",
      "112/112 [==============================] - 4s 40ms/step - loss: 2.5188e-04\n",
      "Epoch 9/100\n",
      "112/112 [==============================] - 4s 40ms/step - loss: 2.2213e-04\n",
      "Epoch 10/100\n",
      "112/112 [==============================] - 5s 41ms/step - loss: 2.0479e-04\n",
      "Epoch 11/100\n",
      "112/112 [==============================] - 5s 42ms/step - loss: 2.0876e-04\n",
      "Epoch 12/100\n",
      "112/112 [==============================] - 5s 40ms/step - loss: 2.1371e-04\n",
      "Epoch 13/100\n",
      "112/112 [==============================] - 5s 43ms/step - loss: 1.8872e-04\n",
      "Epoch 14/100\n",
      "112/112 [==============================] - 5s 46ms/step - loss: 1.7613e-04\n",
      "Epoch 15/100\n",
      "112/112 [==============================] - 5s 44ms/step - loss: 1.7298e-04\n",
      "Epoch 16/100\n",
      "112/112 [==============================] - 5s 42ms/step - loss: 1.7649e-04\n",
      "Epoch 17/100\n",
      "112/112 [==============================] - 5s 42ms/step - loss: 1.7469e-04\n",
      "Epoch 18/100\n",
      "112/112 [==============================] - 4s 40ms/step - loss: 1.7946e-04\n",
      "Epoch 19/100\n",
      "112/112 [==============================] - 4s 40ms/step - loss: 1.6660e-04\n",
      "Epoch 20/100\n",
      "112/112 [==============================] - 5s 40ms/step - loss: 1.5690e-04\n",
      "Epoch 21/100\n",
      "112/112 [==============================] - 4s 40ms/step - loss: 1.4659e-04\n",
      "Epoch 22/100\n",
      "112/112 [==============================] - 5s 40ms/step - loss: 1.4517e-04\n",
      "Epoch 23/100\n",
      "112/112 [==============================] - 4s 40ms/step - loss: 1.3405e-04\n",
      "Epoch 24/100\n",
      "112/112 [==============================] - 5s 43ms/step - loss: 1.5161e-04\n",
      "Epoch 25/100\n",
      "112/112 [==============================] - 4s 40ms/step - loss: 1.4272e-04\n",
      "Epoch 26/100\n",
      "112/112 [==============================] - 5s 42ms/step - loss: 1.3451e-04\n",
      "Epoch 27/100\n",
      "112/112 [==============================] - 5s 41ms/step - loss: 1.4548e-04\n",
      "Epoch 28/100\n",
      "112/112 [==============================] - 4s 40ms/step - loss: 1.2001e-04\n",
      "Epoch 29/100\n",
      "112/112 [==============================] - 5s 40ms/step - loss: 1.2317e-04\n",
      "Epoch 30/100\n",
      "112/112 [==============================] - 4s 40ms/step - loss: 1.1760e-04\n",
      "Epoch 31/100\n",
      "112/112 [==============================] - 5s 42ms/step - loss: 1.1615e-04\n",
      "Epoch 32/100\n",
      "112/112 [==============================] - 5s 41ms/step - loss: 1.1053e-04\n",
      "Epoch 33/100\n",
      "112/112 [==============================] - 5s 40ms/step - loss: 1.1180e-04\n",
      "Epoch 34/100\n",
      "112/112 [==============================] - 5s 41ms/step - loss: 1.1101e-04\n",
      "Epoch 35/100\n",
      "112/112 [==============================] - 5s 42ms/step - loss: 1.0865e-04\n",
      "Epoch 36/100\n",
      "112/112 [==============================] - 5s 41ms/step - loss: 9.8817e-05\n",
      "Epoch 37/100\n",
      "112/112 [==============================] - 5s 40ms/step - loss: 8.0417e-05\n",
      "Epoch 38/100\n",
      "112/112 [==============================] - 5s 42ms/step - loss: 9.5182e-05\n",
      "Epoch 39/100\n",
      "112/112 [==============================] - 5s 41ms/step - loss: 7.3569e-05\n",
      "Epoch 40/100\n",
      "112/112 [==============================] - 5s 41ms/step - loss: 7.8636e-05\n",
      "Epoch 41/100\n",
      "112/112 [==============================] - 5s 41ms/step - loss: 7.6393e-05\n",
      "Epoch 42/100\n",
      "112/112 [==============================] - 5s 41ms/step - loss: 7.8016e-05\n",
      "Epoch 43/100\n",
      "112/112 [==============================] - 5s 41ms/step - loss: 7.2914e-05\n",
      "Epoch 44/100\n",
      "112/112 [==============================] - 5s 40ms/step - loss: 8.0181e-05\n",
      "Epoch 45/100\n",
      "112/112 [==============================] - 5s 42ms/step - loss: 7.1591e-05\n",
      "Epoch 46/100\n",
      "112/112 [==============================] - 5s 41ms/step - loss: 6.8147e-05\n",
      "Epoch 47/100\n",
      "112/112 [==============================] - 5s 41ms/step - loss: 7.6988e-05\n",
      "Epoch 48/100\n",
      "112/112 [==============================] - 5s 42ms/step - loss: 6.5032e-05\n",
      "Epoch 49/100\n",
      "112/112 [==============================] - 5s 41ms/step - loss: 6.7881e-05\n",
      "Epoch 50/100\n",
      "112/112 [==============================] - 5s 41ms/step - loss: 8.0531e-05\n",
      "Epoch 51/100\n",
      "112/112 [==============================] - 5s 41ms/step - loss: 5.5929e-05\n",
      "Epoch 52/100\n",
      "112/112 [==============================] - 5s 43ms/step - loss: 6.7786e-05\n",
      "Epoch 53/100\n",
      "112/112 [==============================] - 5s 41ms/step - loss: 5.6340e-05\n",
      "Epoch 54/100\n",
      "112/112 [==============================] - 5s 41ms/step - loss: 5.7378e-05\n",
      "Epoch 55/100\n",
      "112/112 [==============================] - 5s 42ms/step - loss: 5.6482e-05\n",
      "Epoch 56/100\n",
      "112/112 [==============================] - 5s 43ms/step - loss: 6.2842e-05\n",
      "Epoch 57/100\n",
      "112/112 [==============================] - 5s 41ms/step - loss: 6.4447e-05\n",
      "Epoch 58/100\n",
      "112/112 [==============================] - 5s 41ms/step - loss: 6.4930e-05\n",
      "Epoch 59/100\n",
      "112/112 [==============================] - 5s 42ms/step - loss: 5.1685e-05\n",
      "Epoch 60/100\n",
      "112/112 [==============================] - 5s 41ms/step - loss: 6.6061e-05\n",
      "Epoch 61/100\n",
      "112/112 [==============================] - 5s 41ms/step - loss: 4.8862e-05\n",
      "Epoch 62/100\n",
      "112/112 [==============================] - 5s 42ms/step - loss: 5.3708e-05\n",
      "Epoch 63/100\n",
      "112/112 [==============================] - 5s 41ms/step - loss: 5.1034e-05\n",
      "Epoch 64/100\n",
      "112/112 [==============================] - 5s 41ms/step - loss: 5.3271e-05\n",
      "Epoch 65/100\n",
      "112/112 [==============================] - 5s 41ms/step - loss: 5.9472e-05\n",
      "Epoch 66/100\n",
      "112/112 [==============================] - 5s 42ms/step - loss: 5.0654e-05\n",
      "Epoch 67/100\n",
      "112/112 [==============================] - 5s 41ms/step - loss: 5.1035e-05\n",
      "Epoch 68/100\n",
      "112/112 [==============================] - 5s 41ms/step - loss: 5.5209e-05\n",
      "Epoch 69/100\n",
      "112/112 [==============================] - 5s 42ms/step - loss: 4.8611e-05\n",
      "Epoch 70/100\n",
      "112/112 [==============================] - 5s 41ms/step - loss: 5.2628e-05\n",
      "Epoch 71/100\n",
      "112/112 [==============================] - 5s 41ms/step - loss: 5.0049e-05\n",
      "Epoch 72/100\n",
      "112/112 [==============================] - 5s 42ms/step - loss: 4.7774e-05\n",
      "Epoch 73/100\n",
      "112/112 [==============================] - 5s 40ms/step - loss: 4.7803e-05\n",
      "Epoch 74/100\n",
      "112/112 [==============================] - 5s 41ms/step - loss: 4.6215e-05\n",
      "Epoch 75/100\n",
      "112/112 [==============================] - 5s 41ms/step - loss: 5.1519e-05\n",
      "Epoch 76/100\n",
      "112/112 [==============================] - 5s 42ms/step - loss: 5.0277e-05\n",
      "Epoch 77/100\n",
      "112/112 [==============================] - 5s 41ms/step - loss: 4.4096e-05\n",
      "Epoch 78/100\n",
      "112/112 [==============================] - 5s 41ms/step - loss: 5.5629e-05\n",
      "Epoch 79/100\n",
      "112/112 [==============================] - 5s 42ms/step - loss: 6.2327e-05\n",
      "Epoch 80/100\n",
      "112/112 [==============================] - 5s 42ms/step - loss: 4.4580e-05\n",
      "Epoch 81/100\n",
      "112/112 [==============================] - 5s 41ms/step - loss: 5.2291e-05\n",
      "Epoch 82/100\n",
      "112/112 [==============================] - 5s 41ms/step - loss: 4.8889e-05\n",
      "Epoch 83/100\n",
      "112/112 [==============================] - 5s 43ms/step - loss: 4.5804e-05\n",
      "Epoch 84/100\n",
      "112/112 [==============================] - 5s 41ms/step - loss: 4.4951e-05\n",
      "Epoch 85/100\n",
      "112/112 [==============================] - 5s 41ms/step - loss: 4.6894e-05\n",
      "Epoch 86/100\n",
      "112/112 [==============================] - 5s 43ms/step - loss: 4.6136e-05\n",
      "Epoch 87/100\n",
      "112/112 [==============================] - 5s 42ms/step - loss: 4.9630e-05\n",
      "Epoch 88/100\n",
      "112/112 [==============================] - 5s 41ms/step - loss: 4.6189e-05\n",
      "Epoch 89/100\n",
      "112/112 [==============================] - 5s 41ms/step - loss: 5.2360e-05\n",
      "Epoch 90/100\n",
      "112/112 [==============================] - 5s 43ms/step - loss: 4.9526e-05\n",
      "Epoch 91/100\n",
      "112/112 [==============================] - 5s 41ms/step - loss: 4.6953e-05\n",
      "Epoch 92/100\n",
      "112/112 [==============================] - 5s 41ms/step - loss: 5.0394e-05\n",
      "Epoch 93/100\n",
      "112/112 [==============================] - 5s 42ms/step - loss: 5.5459e-05\n",
      "Epoch 94/100\n"
     ]
    },
    {
     "name": "stdout",
     "output_type": "stream",
     "text": [
      "112/112 [==============================] - 5s 41ms/step - loss: 4.7305e-05\n",
      "Epoch 95/100\n",
      "112/112 [==============================] - 4s 40ms/step - loss: 4.3617e-05\n",
      "Epoch 96/100\n",
      "112/112 [==============================] - 4s 40ms/step - loss: 4.7499e-05\n",
      "Epoch 97/100\n",
      "112/112 [==============================] - 5s 42ms/step - loss: 4.6187e-05\n",
      "Epoch 98/100\n",
      "112/112 [==============================] - 5s 41ms/step - loss: 4.1636e-05\n",
      "Epoch 99/100\n",
      "112/112 [==============================] - 5s 40ms/step - loss: 4.4045e-05\n",
      "Epoch 100/100\n",
      "112/112 [==============================] - 5s 41ms/step - loss: 4.3013e-05\n"
     ]
    },
    {
     "data": {
      "text/plain": [
       "<keras.callbacks.History at 0x2b5c5009a60>"
      ]
     },
     "execution_count": 8,
     "metadata": {},
     "output_type": "execute_result"
    }
   ],
   "source": [
    "# Train the RNN model\n",
    "model.fit(X_train, Y_train, epochs=100, batch_size=32)\n"
   ]
  },
  {
   "cell_type": "code",
   "execution_count": 9,
   "id": "26590b26",
   "metadata": {},
   "outputs": [
    {
     "name": "stdout",
     "output_type": "stream",
     "text": [
      "24/24 [==============================] - 1s 12ms/step - loss: 3837672.0000\n"
     ]
    }
   ],
   "source": [
    "# Evaluate the model on the testing set\n",
    "mse = model.evaluate(X_test, Y_test)\n",
    "rmse = np.sqrt(mse)\n"
   ]
  },
  {
   "cell_type": "code",
   "execution_count": 10,
   "id": "5e519470",
   "metadata": {},
   "outputs": [
    {
     "name": "stdout",
     "output_type": "stream",
     "text": [
      "1/1 [==============================] - 1s 709ms/step\n",
      "[[1057.5223]]\n"
     ]
    }
   ],
   "source": [
    "# Make predictions on future Google stock prices\n",
    "last_60_days = train_set[-60:]\n",
    "last_60_days_scaled = sc.transform(last_60_days)\n",
    "X_pred = np.array([last_60_days_scaled])\n",
    "X_pred = np.reshape(X_pred, (X_pred.shape[0], X_pred.shape[1], 1))\n",
    "pred_price = model.predict(X_pred)\n",
    "pred_price = sc.inverse_transform(pred_price)\n",
    "print(pred_price)\n"
   ]
  },
  {
   "cell_type": "code",
   "execution_count": null,
   "id": "cd6c4820",
   "metadata": {},
   "outputs": [],
   "source": []
  }
 ],
 "metadata": {
  "kernelspec": {
   "display_name": "Python 3 (ipykernel)",
   "language": "python",
   "name": "python3"
  },
  "language_info": {
   "codemirror_mode": {
    "name": "ipython",
    "version": 3
   },
   "file_extension": ".py",
   "mimetype": "text/x-python",
   "name": "python",
   "nbconvert_exporter": "python",
   "pygments_lexer": "ipython3",
   "version": "3.9.16"
  }
 },
 "nbformat": 4,
 "nbformat_minor": 5
}
