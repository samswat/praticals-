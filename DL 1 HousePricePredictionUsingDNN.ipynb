{
 "cells": [
  {
   "cell_type": "code",
   "execution_count": 1,
   "id": "ae3f5d1c",
   "metadata": {},
   "outputs": [],
   "source": [
    "import tensorflow as tf\n",
    "from tensorflow.keras.datasets import boston_housing\n",
    "from sklearn import preprocessing\n"
   ]
  },
  {
   "cell_type": "code",
   "execution_count": 2,
   "id": "2889432d",
   "metadata": {},
   "outputs": [],
   "source": [
    "(train_x, train_y), (test_x, test_y) = boston_housing.load_data()\n",
    "#data = boston_housing.load_data()\n",
    "#print(data[0])"
   ]
  },
  {
   "cell_type": "code",
   "execution_count": 3,
   "id": "739d58ec",
   "metadata": {},
   "outputs": [
    {
     "name": "stdout",
     "output_type": "stream",
     "text": [
      "Train shape:  (404, 13)\n",
      "Test Shape:  (102, 13)\n",
      "Actual Train output:  (404,)\n",
      "Actual Test output:  (102,)\n"
     ]
    }
   ],
   "source": [
    "print(\"Train shape: \", train_x.shape)\n",
    "print(\"Test Shape: \", test_x.shape)\n",
    "print(\"Actual Train output: \", train_y.shape)\n",
    "print(\"Actual Test output: \", test_y.shape)"
   ]
  },
  {
   "cell_type": "code",
   "execution_count": 4,
   "id": "8ba4265e",
   "metadata": {},
   "outputs": [
    {
     "data": {
      "text/plain": [
       "array([  1.23247,   0.     ,   8.14   ,   0.     ,   0.538  ,   6.142  ,\n",
       "        91.7    ,   3.9769 ,   4.     , 307.     ,  21.     , 396.9    ,\n",
       "        18.72   ])"
      ]
     },
     "execution_count": 4,
     "metadata": {},
     "output_type": "execute_result"
    }
   ],
   "source": [
    "train_x[0]"
   ]
  },
  {
   "cell_type": "code",
   "execution_count": 5,
   "id": "169d3ff7",
   "metadata": {},
   "outputs": [
    {
     "data": {
      "text/plain": [
       "15.2"
      ]
     },
     "execution_count": 5,
     "metadata": {},
     "output_type": "execute_result"
    }
   ],
   "source": [
    "train_y[0]"
   ]
  },
  {
   "cell_type": "code",
   "execution_count": 6,
   "id": "2e2c2667",
   "metadata": {},
   "outputs": [],
   "source": [
    "train_x = preprocessing.normalize(train_x)\n",
    "test_x = preprocessing.normalize(test_x)"
   ]
  },
  {
   "cell_type": "code",
   "execution_count": 7,
   "id": "9614190c",
   "metadata": {},
   "outputs": [
    {
     "data": {
      "text/plain": [
       "array([0.0024119 , 0.        , 0.01592969, 0.        , 0.00105285,\n",
       "       0.01201967, 0.17945359, 0.00778265, 0.00782786, 0.6007879 ,\n",
       "       0.04109624, 0.77671895, 0.03663436])"
      ]
     },
     "execution_count": 7,
     "metadata": {},
     "output_type": "execute_result"
    }
   ],
   "source": [
    "train_x[0]"
   ]
  },
  {
   "cell_type": "code",
   "execution_count": 8,
   "id": "86a0c72b",
   "metadata": {},
   "outputs": [
    {
     "data": {
      "text/plain": [
       "15.2"
      ]
     },
     "execution_count": 8,
     "metadata": {},
     "output_type": "execute_result"
    }
   ],
   "source": [
    "train_y[0]"
   ]
  },
  {
   "cell_type": "code",
   "execution_count": 9,
   "id": "96158d70",
   "metadata": {},
   "outputs": [],
   "source": [
    "from tensorflow.keras.models import Sequential\n",
    "from tensorflow.keras.layers import *\n",
    "\n",
    "def HousePricePredictionModel():\n",
    "    model = Sequential()\n",
    "    model.add(Dense(128, activation=\"relu\", input_shape=(train_x[0].shape)))\n",
    "    model.add(Dense(64, activation=\"relu\"))\n",
    "    model.add(Dense(32, activation=\"relu\"))\n",
    "    model.add(Dense(1))\n",
    "    model.compile(optimizer=\"rmsprop\", loss=\"mse\", metrics=[\"mae\"])\n",
    "    return model"
   ]
  },
  {
   "cell_type": "code",
   "execution_count": 10,
   "id": "8288a0dd",
   "metadata": {},
   "outputs": [],
   "source": [
    "import numpy as np\n",
    "k = 4\n",
    "num_val_samples = len(train_x)\n",
    "num_epochs = 101\n",
    "all_scores = []"
   ]
  },
  {
   "cell_type": "code",
   "execution_count": 11,
   "id": "5669c803",
   "metadata": {},
   "outputs": [
    {
     "name": "stdout",
     "output_type": "stream",
     "text": [
      "Epoch 1/101\n",
      "404/404 [==============================] - 6s 8ms/step - loss: 130.5708 - mae: 8.3180 - val_loss: 68.5169 - val_mae: 5.9104\n",
      "Epoch 2/101\n",
      "404/404 [==============================] - 3s 6ms/step - loss: 68.5738 - mae: 5.7850 - val_loss: 60.2413 - val_mae: 5.6387\n",
      "Epoch 3/101\n",
      "404/404 [==============================] - 3s 6ms/step - loss: 62.7851 - mae: 5.4889 - val_loss: 57.3245 - val_mae: 5.6426\n",
      "Epoch 4/101\n",
      "404/404 [==============================] - 3s 7ms/step - loss: 60.4088 - mae: 5.3415 - val_loss: 59.9525 - val_mae: 5.5365\n",
      "Epoch 5/101\n",
      "404/404 [==============================] - 3s 6ms/step - loss: 60.1685 - mae: 5.3069 - val_loss: 54.7968 - val_mae: 5.4031\n",
      "Epoch 6/101\n",
      "404/404 [==============================] - 3s 6ms/step - loss: 57.7505 - mae: 5.1646 - val_loss: 54.6805 - val_mae: 5.6241\n",
      "Epoch 7/101\n",
      "404/404 [==============================] - 3s 6ms/step - loss: 55.8675 - mae: 5.0759 - val_loss: 52.0270 - val_mae: 5.2587\n",
      "Epoch 8/101\n",
      "404/404 [==============================] - 3s 6ms/step - loss: 55.0830 - mae: 5.0281 - val_loss: 51.7363 - val_mae: 5.3601\n",
      "Epoch 9/101\n",
      "404/404 [==============================] - 3s 6ms/step - loss: 52.4133 - mae: 4.9034 - val_loss: 76.9261 - val_mae: 7.3996\n",
      "Epoch 10/101\n",
      "404/404 [==============================] - 3s 6ms/step - loss: 52.2242 - mae: 4.9855 - val_loss: 51.0129 - val_mae: 5.0281\n",
      "Epoch 11/101\n",
      "404/404 [==============================] - 3s 7ms/step - loss: 50.1143 - mae: 4.8016 - val_loss: 46.7783 - val_mae: 4.9818\n",
      "Epoch 12/101\n",
      "404/404 [==============================] - 3s 7ms/step - loss: 48.9245 - mae: 4.7433 - val_loss: 49.0149 - val_mae: 4.9006\n",
      "Epoch 13/101\n",
      "404/404 [==============================] - 3s 7ms/step - loss: 46.7473 - mae: 4.5988 - val_loss: 45.2370 - val_mae: 4.6881\n",
      "Epoch 14/101\n",
      "404/404 [==============================] - 3s 7ms/step - loss: 46.0027 - mae: 4.5865 - val_loss: 42.5955 - val_mae: 4.5379\n",
      "Epoch 15/101\n",
      "404/404 [==============================] - 3s 8ms/step - loss: 43.3659 - mae: 4.5787 - val_loss: 40.6253 - val_mae: 4.4258\n",
      "Epoch 16/101\n",
      "404/404 [==============================] - 3s 8ms/step - loss: 42.5029 - mae: 4.5020 - val_loss: 38.4579 - val_mae: 4.3898\n",
      "Epoch 17/101\n",
      "404/404 [==============================] - 3s 7ms/step - loss: 41.1830 - mae: 4.4350 - val_loss: 51.5808 - val_mae: 4.9896\n",
      "Epoch 18/101\n",
      "404/404 [==============================] - 3s 7ms/step - loss: 40.4852 - mae: 4.2838 - val_loss: 37.7801 - val_mae: 4.4581\n",
      "Epoch 19/101\n",
      "404/404 [==============================] - 3s 7ms/step - loss: 37.8619 - mae: 4.2645 - val_loss: 50.8506 - val_mae: 4.9472\n",
      "Epoch 20/101\n",
      "404/404 [==============================] - 3s 7ms/step - loss: 38.7003 - mae: 4.3421 - val_loss: 34.6016 - val_mae: 4.2709\n",
      "Epoch 21/101\n",
      "404/404 [==============================] - 3s 7ms/step - loss: 37.0328 - mae: 4.2050 - val_loss: 43.1577 - val_mae: 4.5567\n",
      "Epoch 22/101\n",
      "404/404 [==============================] - 3s 7ms/step - loss: 36.3781 - mae: 4.1926 - val_loss: 32.5310 - val_mae: 3.9462\n",
      "Epoch 23/101\n",
      "404/404 [==============================] - 3s 7ms/step - loss: 35.2107 - mae: 4.1268 - val_loss: 47.9132 - val_mae: 4.8187\n",
      "Epoch 24/101\n",
      "404/404 [==============================] - 3s 7ms/step - loss: 35.7576 - mae: 4.1648 - val_loss: 33.7786 - val_mae: 3.9677\n",
      "Epoch 25/101\n",
      "404/404 [==============================] - 3s 7ms/step - loss: 33.7281 - mae: 4.0828 - val_loss: 30.4763 - val_mae: 4.0239\n",
      "Epoch 26/101\n",
      "404/404 [==============================] - 3s 7ms/step - loss: 34.0008 - mae: 4.0519 - val_loss: 29.9197 - val_mae: 3.8321\n",
      "Epoch 27/101\n",
      "404/404 [==============================] - 3s 7ms/step - loss: 33.0143 - mae: 3.9934 - val_loss: 35.1312 - val_mae: 4.8342\n",
      "Epoch 28/101\n",
      "404/404 [==============================] - 3s 7ms/step - loss: 32.6046 - mae: 4.0625 - val_loss: 30.7523 - val_mae: 3.8316\n",
      "Epoch 29/101\n",
      "404/404 [==============================] - 3s 7ms/step - loss: 30.9263 - mae: 3.9050 - val_loss: 31.8221 - val_mae: 3.8454\n",
      "Epoch 30/101\n",
      "404/404 [==============================] - 3s 7ms/step - loss: 31.5276 - mae: 3.8837 - val_loss: 27.8412 - val_mae: 3.8704\n",
      "Epoch 31/101\n",
      "404/404 [==============================] - 3s 7ms/step - loss: 29.7143 - mae: 3.9068 - val_loss: 27.6280 - val_mae: 3.9137\n",
      "Epoch 32/101\n",
      "404/404 [==============================] - 3s 7ms/step - loss: 28.8404 - mae: 3.9173 - val_loss: 33.0686 - val_mae: 3.9617\n",
      "Epoch 33/101\n",
      "404/404 [==============================] - 3s 7ms/step - loss: 29.4672 - mae: 3.7994 - val_loss: 27.5543 - val_mae: 3.6599\n",
      "Epoch 34/101\n",
      "404/404 [==============================] - 3s 7ms/step - loss: 27.9457 - mae: 3.8281 - val_loss: 27.4988 - val_mae: 3.7561\n",
      "Epoch 35/101\n",
      "404/404 [==============================] - 3s 7ms/step - loss: 28.4929 - mae: 3.7485 - val_loss: 25.6551 - val_mae: 3.6276\n",
      "Epoch 36/101\n",
      "404/404 [==============================] - 4s 9ms/step - loss: 27.8668 - mae: 3.8317 - val_loss: 26.5688 - val_mae: 3.7338\n",
      "Epoch 37/101\n",
      "404/404 [==============================] - 3s 7ms/step - loss: 25.5498 - mae: 3.6076 - val_loss: 27.3159 - val_mae: 3.7226\n",
      "Epoch 38/101\n",
      "404/404 [==============================] - 3s 7ms/step - loss: 26.6417 - mae: 3.6504 - val_loss: 30.5106 - val_mae: 3.7925\n",
      "Epoch 39/101\n",
      "404/404 [==============================] - 3s 7ms/step - loss: 24.8605 - mae: 3.5782 - val_loss: 34.7837 - val_mae: 4.1286\n",
      "Epoch 40/101\n",
      "404/404 [==============================] - 3s 7ms/step - loss: 24.4120 - mae: 3.4863 - val_loss: 29.6272 - val_mae: 4.3480\n",
      "Epoch 41/101\n",
      "404/404 [==============================] - 3s 8ms/step - loss: 23.8253 - mae: 3.5169 - val_loss: 33.2010 - val_mae: 4.0218\n",
      "Epoch 42/101\n",
      "404/404 [==============================] - 3s 7ms/step - loss: 22.5945 - mae: 3.4142 - val_loss: 29.9715 - val_mae: 3.7982\n",
      "Epoch 43/101\n",
      "404/404 [==============================] - 3s 7ms/step - loss: 23.4327 - mae: 3.5823 - val_loss: 29.0209 - val_mae: 3.8222\n",
      "Epoch 44/101\n",
      "404/404 [==============================] - 3s 7ms/step - loss: 22.6336 - mae: 3.3576 - val_loss: 32.8847 - val_mae: 4.7873\n",
      "Epoch 45/101\n",
      "404/404 [==============================] - 3s 7ms/step - loss: 22.4255 - mae: 3.4662 - val_loss: 24.4157 - val_mae: 3.5439\n",
      "Epoch 46/101\n",
      "404/404 [==============================] - 3s 7ms/step - loss: 21.5212 - mae: 3.2665 - val_loss: 25.3195 - val_mae: 3.7890\n",
      "Epoch 47/101\n",
      "404/404 [==============================] - 3s 7ms/step - loss: 21.7501 - mae: 3.3276 - val_loss: 32.3150 - val_mae: 3.8808\n",
      "Epoch 48/101\n",
      "404/404 [==============================] - 3s 7ms/step - loss: 21.8597 - mae: 3.4010 - val_loss: 25.2517 - val_mae: 3.7472\n",
      "Epoch 49/101\n",
      "404/404 [==============================] - 3s 7ms/step - loss: 22.3669 - mae: 3.3414 - val_loss: 28.6893 - val_mae: 4.1539\n",
      "Epoch 50/101\n",
      "404/404 [==============================] - 3s 7ms/step - loss: 20.7844 - mae: 3.2853 - val_loss: 25.8444 - val_mae: 3.5744\n",
      "Epoch 51/101\n",
      "404/404 [==============================] - 3s 8ms/step - loss: 21.1234 - mae: 3.3013 - val_loss: 24.5651 - val_mae: 3.5565\n",
      "Epoch 52/101\n",
      "404/404 [==============================] - 3s 7ms/step - loss: 19.3728 - mae: 3.1935 - val_loss: 24.1586 - val_mae: 3.5137\n",
      "Epoch 53/101\n",
      "404/404 [==============================] - 3s 6ms/step - loss: 18.8516 - mae: 3.0315 - val_loss: 34.4254 - val_mae: 4.1589\n",
      "Epoch 54/101\n",
      "404/404 [==============================] - 3s 6ms/step - loss: 20.7328 - mae: 3.2622 - val_loss: 31.2945 - val_mae: 3.8677\n",
      "Epoch 55/101\n",
      "404/404 [==============================] - 3s 6ms/step - loss: 19.9446 - mae: 3.1243 - val_loss: 24.0166 - val_mae: 3.4581\n",
      "Epoch 56/101\n",
      "404/404 [==============================] - 3s 7ms/step - loss: 19.6272 - mae: 3.1976 - val_loss: 33.9215 - val_mae: 4.4967\n",
      "Epoch 57/101\n",
      "404/404 [==============================] - 3s 7ms/step - loss: 19.7315 - mae: 3.2052 - val_loss: 27.1537 - val_mae: 3.9346\n",
      "Epoch 58/101\n",
      "404/404 [==============================] - 3s 6ms/step - loss: 18.6862 - mae: 3.1618 - val_loss: 25.2501 - val_mae: 3.5890\n",
      "Epoch 59/101\n",
      "404/404 [==============================] - 3s 8ms/step - loss: 19.0704 - mae: 3.0818 - val_loss: 28.2211 - val_mae: 3.9082\n",
      "Epoch 60/101\n",
      "404/404 [==============================] - 3s 6ms/step - loss: 19.3306 - mae: 3.1367 - val_loss: 27.1156 - val_mae: 3.6225\n",
      "Epoch 61/101\n"
     ]
    },
    {
     "name": "stdout",
     "output_type": "stream",
     "text": [
      "404/404 [==============================] - 4s 10ms/step - loss: 19.1908 - mae: 3.0963 - val_loss: 26.2122 - val_mae: 3.6407\n",
      "Epoch 62/101\n",
      "404/404 [==============================] - 5s 11ms/step - loss: 19.1892 - mae: 3.1392 - val_loss: 25.6964 - val_mae: 3.5529\n",
      "Epoch 63/101\n",
      "404/404 [==============================] - 5s 11ms/step - loss: 17.8685 - mae: 3.0496 - val_loss: 26.5256 - val_mae: 3.5953\n",
      "Epoch 64/101\n",
      "404/404 [==============================] - 4s 11ms/step - loss: 18.0275 - mae: 3.0871 - val_loss: 36.8020 - val_mae: 4.4696\n",
      "Epoch 65/101\n",
      "404/404 [==============================] - 4s 9ms/step - loss: 18.1929 - mae: 3.0182 - val_loss: 27.3440 - val_mae: 3.6509\n",
      "Epoch 66/101\n",
      "404/404 [==============================] - 4s 9ms/step - loss: 16.6753 - mae: 3.0165 - val_loss: 35.3083 - val_mae: 4.3475\n",
      "Epoch 67/101\n",
      "404/404 [==============================] - 3s 9ms/step - loss: 18.6643 - mae: 3.1538 - val_loss: 29.6649 - val_mae: 3.8355\n",
      "Epoch 68/101\n",
      "404/404 [==============================] - 3s 7ms/step - loss: 16.7135 - mae: 2.8994 - val_loss: 27.4115 - val_mae: 3.7357\n",
      "Epoch 69/101\n",
      "404/404 [==============================] - 3s 6ms/step - loss: 17.2531 - mae: 2.9739 - val_loss: 26.7593 - val_mae: 3.5688\n",
      "Epoch 70/101\n",
      "404/404 [==============================] - 3s 7ms/step - loss: 18.7081 - mae: 3.1282 - val_loss: 30.2919 - val_mae: 3.8832\n",
      "Epoch 71/101\n",
      "404/404 [==============================] - 3s 7ms/step - loss: 17.8121 - mae: 3.0181 - val_loss: 28.2357 - val_mae: 3.6095\n",
      "Epoch 72/101\n",
      "404/404 [==============================] - 3s 7ms/step - loss: 17.1677 - mae: 3.0546 - val_loss: 30.0059 - val_mae: 3.8389\n",
      "Epoch 73/101\n",
      "404/404 [==============================] - 3s 7ms/step - loss: 17.6145 - mae: 3.0018 - val_loss: 31.1240 - val_mae: 3.9339\n",
      "Epoch 74/101\n",
      "404/404 [==============================] - 3s 7ms/step - loss: 17.5024 - mae: 3.0530 - val_loss: 35.7965 - val_mae: 4.2477\n",
      "Epoch 75/101\n",
      "404/404 [==============================] - 3s 7ms/step - loss: 17.9075 - mae: 3.0208 - val_loss: 32.6430 - val_mae: 4.0264\n",
      "Epoch 76/101\n",
      "404/404 [==============================] - 3s 7ms/step - loss: 16.9263 - mae: 2.9612 - val_loss: 26.2065 - val_mae: 3.5624\n",
      "Epoch 77/101\n",
      "404/404 [==============================] - 3s 7ms/step - loss: 16.5012 - mae: 2.9728 - val_loss: 28.1992 - val_mae: 3.8030\n",
      "Epoch 78/101\n",
      "404/404 [==============================] - 3s 7ms/step - loss: 16.9493 - mae: 2.9858 - val_loss: 27.9454 - val_mae: 3.6177\n",
      "Epoch 79/101\n",
      "404/404 [==============================] - 3s 7ms/step - loss: 16.0919 - mae: 2.9589 - val_loss: 27.4384 - val_mae: 3.5383\n",
      "Epoch 80/101\n",
      "404/404 [==============================] - 3s 7ms/step - loss: 17.3706 - mae: 3.0450 - val_loss: 30.6102 - val_mae: 3.6282\n",
      "Epoch 81/101\n",
      "404/404 [==============================] - 3s 7ms/step - loss: 17.7313 - mae: 3.0468 - val_loss: 28.4645 - val_mae: 3.6070\n",
      "Epoch 82/101\n",
      "404/404 [==============================] - 3s 7ms/step - loss: 17.4442 - mae: 2.9514 - val_loss: 30.0376 - val_mae: 3.7847\n",
      "Epoch 83/101\n",
      "404/404 [==============================] - 3s 7ms/step - loss: 18.5387 - mae: 2.9928 - val_loss: 36.1727 - val_mae: 4.2261\n",
      "Epoch 84/101\n",
      "404/404 [==============================] - 3s 7ms/step - loss: 17.2017 - mae: 2.9781 - val_loss: 28.3893 - val_mae: 3.5508\n",
      "Epoch 85/101\n",
      "404/404 [==============================] - 3s 7ms/step - loss: 16.7787 - mae: 2.9215 - val_loss: 30.6365 - val_mae: 3.7069\n",
      "Epoch 86/101\n",
      "404/404 [==============================] - 3s 7ms/step - loss: 16.0642 - mae: 2.8461 - val_loss: 32.7661 - val_mae: 4.1571\n",
      "Epoch 87/101\n",
      "404/404 [==============================] - 3s 7ms/step - loss: 16.4073 - mae: 2.9435 - val_loss: 29.1738 - val_mae: 3.7008\n",
      "Epoch 88/101\n",
      "404/404 [==============================] - 3s 7ms/step - loss: 15.9646 - mae: 2.9225 - val_loss: 41.0806 - val_mae: 4.6716\n",
      "Epoch 89/101\n",
      "404/404 [==============================] - 3s 7ms/step - loss: 15.5209 - mae: 2.8813 - val_loss: 40.5052 - val_mae: 4.5383\n",
      "Epoch 90/101\n",
      "404/404 [==============================] - 3s 7ms/step - loss: 16.7961 - mae: 2.9944 - val_loss: 30.6894 - val_mae: 3.7462\n",
      "Epoch 91/101\n",
      "404/404 [==============================] - 3s 7ms/step - loss: 16.2389 - mae: 2.8637 - val_loss: 31.1995 - val_mae: 3.6743\n",
      "Epoch 92/101\n",
      "404/404 [==============================] - 3s 7ms/step - loss: 16.3865 - mae: 2.8998 - val_loss: 31.1585 - val_mae: 3.7646\n",
      "Epoch 93/101\n",
      "404/404 [==============================] - 3s 7ms/step - loss: 17.3401 - mae: 2.9834 - val_loss: 31.7786 - val_mae: 3.9681\n",
      "Epoch 94/101\n",
      "404/404 [==============================] - 3s 7ms/step - loss: 16.7024 - mae: 2.8983 - val_loss: 27.5581 - val_mae: 3.5118\n",
      "Epoch 95/101\n",
      "404/404 [==============================] - 3s 7ms/step - loss: 17.4911 - mae: 2.9297 - val_loss: 28.4717 - val_mae: 3.6674\n",
      "Epoch 96/101\n",
      "404/404 [==============================] - 3s 7ms/step - loss: 16.8193 - mae: 2.8941 - val_loss: 26.9037 - val_mae: 3.4833\n",
      "Epoch 97/101\n",
      "404/404 [==============================] - 3s 7ms/step - loss: 16.5307 - mae: 2.8909 - val_loss: 27.9516 - val_mae: 3.5393\n",
      "Epoch 98/101\n",
      "404/404 [==============================] - 3s 7ms/step - loss: 17.3597 - mae: 2.9495 - val_loss: 36.2014 - val_mae: 4.2687\n",
      "Epoch 99/101\n",
      "404/404 [==============================] - 3s 7ms/step - loss: 16.3854 - mae: 2.8908 - val_loss: 27.5755 - val_mae: 3.4757\n",
      "Epoch 100/101\n",
      "404/404 [==============================] - 3s 7ms/step - loss: 16.3798 - mae: 2.8636 - val_loss: 26.5765 - val_mae: 3.4396\n",
      "Epoch 101/101\n",
      "404/404 [==============================] - 3s 7ms/step - loss: 16.6118 - mae: 2.9389 - val_loss: 26.9434 - val_mae: 3.6403\n"
     ]
    }
   ],
   "source": [
    "model = HousePricePredictionModel()\n",
    "history = model.fit(x=train_x, y=train_y, epochs=num_epochs, batch_size=1, verbose=1, validation_data=(test_x, test_y))"
   ]
  },
  {
   "cell_type": "code",
   "execution_count": 13,
   "id": "c14a9ed1",
   "metadata": {},
   "outputs": [
    {
     "name": "stdout",
     "output_type": "stream",
     "text": [
      "Actual output: 24.0\n",
      "1/1 [==============================] - 0s 91ms/step\n",
      "predicted Output:  [[35.2805]]\n"
     ]
    }
   ],
   "source": [
    "test_input = np.array([0.00632,18.0,2.31,0,0.538,6.575,65.2,4.0900,1,296.0,15.3,396.9,4.98])\n",
    "\n",
    "test_input = preprocessing.normalize([test_input])\n",
    "print(\"Actual output: 24.0\")\n",
    "print(\"predicted Output: \", model.predict(test_input))"
   ]
  }
 ],
 "metadata": {
  "kernelspec": {
   "display_name": "Python 3 (ipykernel)",
   "language": "python",
   "name": "python3"
  },
  "language_info": {
   "codemirror_mode": {
    "name": "ipython",
    "version": 3
   },
   "file_extension": ".py",
   "mimetype": "text/x-python",
   "name": "python",
   "nbconvert_exporter": "python",
   "pygments_lexer": "ipython3",
   "version": "3.11.1"
  }
 },
 "nbformat": 4,
 "nbformat_minor": 5
}
